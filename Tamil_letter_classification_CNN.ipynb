{
  "nbformat": 4,
  "nbformat_minor": 0,
  "metadata": {
    "colab": {
      "name": "Tamil_letter_classification_CNN.ipynb",
      "provenance": [],
      "collapsed_sections": []
    },
    "kernelspec": {
      "name": "python3",
      "display_name": "Python 3"
    },
    "language_info": {
      "name": "python"
    }
  },
  "cells": [
    {
      "cell_type": "markdown",
      "metadata": {
        "id": "9VmWEd6BwK11"
      },
      "source": [
        "#**DEEP LEARNING - Tamil Character Classification**\n"
      ]
    },
    {
      "cell_type": "markdown",
      "metadata": {
        "id": "EyR89kk7cS78"
      },
      "source": [
        "### **Uploading the data**"
      ]
    },
    {
      "cell_type": "code",
      "metadata": {
        "id": "qaGO2C3HlWvm",
        "colab": {
          "base_uri": "https://localhost:8080/"
        },
        "outputId": "f86914f1-b8fe-4e71-b499-47d80917425c"
      },
      "source": [
        "from google.colab import drive\n",
        "drive.mount('/content/gdrive') "
      ],
      "execution_count": null,
      "outputs": [
        {
          "output_type": "stream",
          "name": "stdout",
          "text": [
            "Mounted at /content/gdrive\n"
          ]
        }
      ]
    },
    {
      "cell_type": "code",
      "metadata": {
        "id": "L9sjqtyigWXh"
      },
      "source": [
        "import os\n",
        "import cv2\n",
        "import numpy as np\n",
        "import keras\n",
        "from keras.models import Sequential\n",
        "from keras.layers import Dense\n",
        "from tensorflow.keras.utils import to_categorical\n",
        "from keras.layers import Dropout\n",
        "from keras.layers import Flatten\n",
        "from keras.layers.convolutional import Conv2D\n",
        "from keras.layers.convolutional import MaxPooling2D\n",
        "from keras.utils import np_utils\n",
        "from sklearn.model_selection import train_test_split\n",
        "from keras.preprocessing.image import ImageDataGenerator"
      ],
      "execution_count": null,
      "outputs": []
    },
    {
      "cell_type": "code",
      "metadata": {
        "id": "RYOQWCAZlc6c"
      },
      "source": [
        "import zipfile  # unziping \n",
        "import glob  # finding image paths\n",
        "import numpy as np  # creating numpy arrays\n",
        "from skimage.io import imread  # reading images\n",
        "from skimage.transform import resize  # resizing images\n",
        "# 1. Unzip images\n",
        "path = '/content/dataset.zip'\n",
        "with zipfile.ZipFile(path, 'r') as zip_ref:\n",
        "    zip_ref.extractall('/content/image_data')"
      ],
      "execution_count": null,
      "outputs": []
    },
    {
      "cell_type": "markdown",
      "metadata": {
        "id": "LLqR92eLwVRw"
      },
      "source": [
        "### **Converting images to .jpeg format from .tiff**"
      ]
    },
    {
      "cell_type": "code",
      "metadata": {
        "id": "8cKyBF5XsUjA"
      },
      "source": [
        "import matplotlib.pyplot as plt\n",
        "from PIL import Image\n",
        "\n",
        "os.makedirs('/content/jpg_data')\n",
        "\n",
        "for files in  os.listdir(\"/content/image_data/shuffled\"):\n",
        "    im = Image.open('/content/image_data/shuffled/'+str(files))\n",
        "    im.save('/content/jpg_data/'+str(files).replace(\".tiff\",\"\")+'.jpeg')"
      ],
      "execution_count": null,
      "outputs": []
    },
    {
      "cell_type": "markdown",
      "metadata": {
        "id": "WHZ7pgODmb7v"
      },
      "source": [
        "###**Data Augmentation**"
      ]
    },
    {
      "cell_type": "code",
      "metadata": {
        "id": "ny_8lGcrnTi9"
      },
      "source": [
        "from keras.preprocessing.image import ImageDataGenerator\n",
        "from skimage import io\n",
        "from PIL import Image\n",
        "\n",
        "datagen = ImageDataGenerator(\n",
        "            width_shift_range=0.2,  \n",
        "            height_shift_range=0.2,           \n",
        "            zoom_range=0.2)\n",
        "\n",
        "image_directory = '/content/55/'\n",
        "SIZE = 224\n",
        "dataset = []\n",
        "my_images = os.listdir(image_directory)\n",
        "for i, image_name in enumerate(my_images):    \n",
        "   if (image_name.split('.')[1] == 'jpg'):        \n",
        "       image = io.imread(image_directory + image_name)        \n",
        "       image = Image.fromarray(image, 'RGB')        \n",
        "       image = image.resize((SIZE,SIZE)) \n",
        "       dataset.append(np.array(image))\n",
        "x = np.array(dataset)\n",
        "i = 0\n",
        "for batch in datagen.flow(x, batch_size=16,\n",
        "                          save_to_dir='/content/jpg_data/',\n",
        "                          save_prefix='u55_155t',\n",
        "                          save_format='jpeg'):    \n",
        "  i += 1    \n",
        "  if i > 20:        \n",
        "     break"
      ],
      "execution_count": null,
      "outputs": []
    },
    {
      "cell_type": "markdown",
      "metadata": {
        "id": "XxkrPgnlwwsn"
      },
      "source": [
        "###**Resizing all images into the same size**"
      ]
    },
    {
      "cell_type": "code",
      "metadata": {
        "id": "j8vaRLeHj5IR"
      },
      "source": [
        "os.makedirs('/content/processed_img')\n",
        "\n",
        "for fil in  os.listdir(\"/content/jpg_data\"):\n",
        "    img=cv2.imread('/content/jpg_data/'+str(fil))\n",
        "    #img = cv2.cvtColor(img, cv2.COLOR_BGR2RGB)\n",
        "    img2=255-img\n",
        "    img2=cv2.resize(img2, (224, 224))\n",
        "    cv2.imwrite(\"/content/processed_img/\"+str(fil), img2)"
      ],
      "execution_count": null,
      "outputs": []
    },
    {
      "cell_type": "markdown",
      "metadata": {
        "id": "Tt4qCIZmw4nh"
      },
      "source": [
        "###**Classifying the dataset and storing in folders**"
      ]
    },
    {
      "cell_type": "code",
      "metadata": {
        "id": "eyQEd9aMojNz"
      },
      "source": [
        "import re\n",
        "os.makedirs('/content/classified_dataset')\n",
        "\n",
        "for files in  os.listdir(\"/content/processed_img\"):\n",
        "    index1=re.findall(r'\\d\\dt',files)\n",
        "    index=int(index1[0][0:2])\n",
        "    img=cv2.imread('/content/processed_img/'+str(files),0)\n",
        "    #print(index)\n",
        "    if not os.path.exists('/content/classified_dataset/'+str(index)+'/'):\n",
        "        os.makedirs('/content/classified_dataset/'+str(index)+'/')\n",
        "    cv2.imwrite('/content/classified_dataset/'+str(index)+'/'+files,img)\n"
      ],
      "execution_count": null,
      "outputs": []
    },
    {
      "cell_type": "markdown",
      "metadata": {
        "id": "eaFiih_kxNh5"
      },
      "source": [
        "### **CNN model**"
      ]
    },
    {
      "cell_type": "code",
      "metadata": {
        "id": "d1f05OdysG4y"
      },
      "source": [
        "images=[]\n",
        "labels=[]\n",
        "for folders in os.listdir('/content/classified_dataset'):\n",
        "    for files in os.listdir('/content/classified_dataset/'+folders):\n",
        "        img=cv2.imread('/content/classified_dataset/'+folders+'/'+files,0)/255\n",
        "        img=cv2.resize(img,(128,128))\n",
        "        img.shape=(128,128,1)\n",
        "        images.append(img)\n",
        "        labels.append(folders)\n",
        "images=np.array(images)\n",
        "labels=np.array(labels)"
      ],
      "execution_count": null,
      "outputs": []
    },
    {
      "cell_type": "code",
      "metadata": {
        "id": "WkslKPrD5o3Z",
        "colab": {
          "base_uri": "https://localhost:8080/"
        },
        "outputId": "db50958f-17c1-4341-c681-d5bcf9ff8b42"
      },
      "source": [
        "len(os.listdir(\"/content/jpg_data\"))"
      ],
      "execution_count": null,
      "outputs": [
        {
          "output_type": "execute_result",
          "data": {
            "text/plain": [
              "1456"
            ]
          },
          "metadata": {},
          "execution_count": 61
        }
      ]
    },
    {
      "cell_type": "markdown",
      "metadata": {
        "id": "nnHx7HPz5NcI"
      },
      "source": [
        "###**Label Encoding**"
      ]
    },
    {
      "cell_type": "code",
      "metadata": {
        "id": "UIwr9vCe5MQ0"
      },
      "source": [
        "from sklearn.preprocessing import LabelEncoder\n",
        "from sklearn.preprocessing import OneHotEncoder\n",
        "# integer encode\n",
        "label_encoder = LabelEncoder()\n",
        "integer_encoded = label_encoder.fit_transform(labels)\n",
        "# binary encode\n",
        "onehot_encoder = OneHotEncoder(sparse=False)\n",
        "integer_encoded = integer_encoded.reshape(len(integer_encoded), 1)\n",
        "y_labels = onehot_encoder.fit_transform(integer_encoded)"
      ],
      "execution_count": null,
      "outputs": []
    },
    {
      "cell_type": "code",
      "metadata": {
        "id": "wmuETxh85Zf9",
        "colab": {
          "base_uri": "https://localhost:8080/"
        },
        "outputId": "190c9b24-0592-4799-ad13-6848e58feba6"
      },
      "source": [
        "label_encoder.classes_"
      ],
      "execution_count": null,
      "outputs": [
        {
          "output_type": "execute_result",
          "data": {
            "text/plain": [
              "array(['10', '55', '6', '7', '8', '9'], dtype='<U2')"
            ]
          },
          "metadata": {},
          "execution_count": 11
        }
      ]
    },
    {
      "cell_type": "markdown",
      "metadata": {
        "id": "m0uF3kLt5cyF"
      },
      "source": [
        "### **Train test split**"
      ]
    },
    {
      "cell_type": "code",
      "metadata": {
        "id": "GhiT6SCw5dC0"
      },
      "source": [
        "X_train, X_test, y_train, y_test = train_test_split(images, y_labels, test_size=0.33, random_state=42)"
      ],
      "execution_count": null,
      "outputs": []
    },
    {
      "cell_type": "code",
      "metadata": {
        "id": "2Su9HI6Z5qfl",
        "colab": {
          "base_uri": "https://localhost:8080/"
        },
        "outputId": "2bc4ea08-0fa1-4f01-e2c0-889298677f59"
      },
      "source": [
        "len(X_train)"
      ],
      "execution_count": null,
      "outputs": [
        {
          "output_type": "execute_result",
          "data": {
            "text/plain": [
              "975"
            ]
          },
          "metadata": {},
          "execution_count": 13
        }
      ]
    },
    {
      "cell_type": "code",
      "metadata": {
        "id": "kFCS-P2s5sMa",
        "colab": {
          "base_uri": "https://localhost:8080/"
        },
        "outputId": "1b67cddc-f355-4d62-823a-7a2cffd92826"
      },
      "source": [
        "len(X_test)"
      ],
      "execution_count": null,
      "outputs": [
        {
          "output_type": "execute_result",
          "data": {
            "text/plain": [
              "481"
            ]
          },
          "metadata": {},
          "execution_count": 14
        }
      ]
    },
    {
      "cell_type": "markdown",
      "metadata": {
        "id": "nAV5LFYNRukO"
      },
      "source": [
        "###**Architecture 1**"
      ]
    },
    {
      "cell_type": "code",
      "metadata": {
        "id": "BgGUzOzcRy8L",
        "colab": {
          "base_uri": "https://localhost:8080/"
        },
        "outputId": "4b0682b5-bd05-45a5-d4af-1b804ef86fee"
      },
      "source": [
        "model1 = Sequential()\n",
        "model1.add(Conv2D(32, (5, 5), input_shape=(128,128,1), activation='relu'))\n",
        "model1.add(MaxPooling2D(pool_size=(2, 2)))\n",
        "model1.add(Conv2D(16, (5, 5), activation='relu'))\n",
        "model1.add(MaxPooling2D(pool_size=(2, 2)))\n",
        "model1.add(Conv2D(16, (5, 5), activation='relu'))\n",
        "model1.add(MaxPooling2D(pool_size=(2, 2)))\n",
        "model1.add(Dropout(0.2))\n",
        "model1.add(Flatten())\n",
        "model1.add(Dense(64, activation='relu'))\n",
        "model1.add(Dense(6, activation='softmax'))\n",
        "model1.summary()\n",
        "model1.compile(loss='categorical_crossentropy', optimizer='adam', metrics=['accuracy'])"
      ],
      "execution_count": null,
      "outputs": [
        {
          "output_type": "stream",
          "name": "stdout",
          "text": [
            "Model: \"sequential\"\n",
            "_________________________________________________________________\n",
            "Layer (type)                 Output Shape              Param #   \n",
            "=================================================================\n",
            "conv2d (Conv2D)              (None, 124, 124, 32)      832       \n",
            "_________________________________________________________________\n",
            "max_pooling2d (MaxPooling2D) (None, 62, 62, 32)        0         \n",
            "_________________________________________________________________\n",
            "conv2d_1 (Conv2D)            (None, 58, 58, 16)        12816     \n",
            "_________________________________________________________________\n",
            "max_pooling2d_1 (MaxPooling2 (None, 29, 29, 16)        0         \n",
            "_________________________________________________________________\n",
            "conv2d_2 (Conv2D)            (None, 25, 25, 16)        6416      \n",
            "_________________________________________________________________\n",
            "max_pooling2d_2 (MaxPooling2 (None, 12, 12, 16)        0         \n",
            "_________________________________________________________________\n",
            "dropout (Dropout)            (None, 12, 12, 16)        0         \n",
            "_________________________________________________________________\n",
            "flatten (Flatten)            (None, 2304)              0         \n",
            "_________________________________________________________________\n",
            "dense (Dense)                (None, 64)                147520    \n",
            "_________________________________________________________________\n",
            "dense_1 (Dense)              (None, 6)                 390       \n",
            "=================================================================\n",
            "Total params: 167,974\n",
            "Trainable params: 167,974\n",
            "Non-trainable params: 0\n",
            "_________________________________________________________________\n"
          ]
        }
      ]
    },
    {
      "cell_type": "code",
      "metadata": {
        "id": "gpJdeCCzR3PK",
        "colab": {
          "base_uri": "https://localhost:8080/"
        },
        "outputId": "7405a1ba-df27-4aa0-ceb9-051efe2c7766"
      },
      "source": [
        "model1.fit(X_train, y_train, validation_data=(X_test, y_test), epochs=15, batch_size=75, verbose=1)\n",
        "scores1 = model1.evaluate(images, y_labels, verbose=1)\n",
        "print(\"CNN Error: %.2f%%\" % (100-scores1[1]*100))"
      ],
      "execution_count": null,
      "outputs": [
        {
          "output_type": "stream",
          "name": "stdout",
          "text": [
            "Epoch 1/15\n",
            "13/13 [==============================] - 29s 2s/step - loss: 1.3881 - accuracy: 0.4451 - val_loss: 0.7665 - val_accuracy: 0.7256\n",
            "Epoch 2/15\n",
            "13/13 [==============================] - 27s 2s/step - loss: 0.6490 - accuracy: 0.7651 - val_loss: 0.4767 - val_accuracy: 0.8399\n",
            "Epoch 3/15\n",
            "13/13 [==============================] - 27s 2s/step - loss: 0.3984 - accuracy: 0.8564 - val_loss: 0.3380 - val_accuracy: 0.8877\n",
            "Epoch 4/15\n",
            "13/13 [==============================] - 27s 2s/step - loss: 0.2464 - accuracy: 0.9128 - val_loss: 0.2825 - val_accuracy: 0.9085\n",
            "Epoch 5/15\n",
            "13/13 [==============================] - 27s 2s/step - loss: 0.1461 - accuracy: 0.9569 - val_loss: 0.2235 - val_accuracy: 0.9293\n",
            "Epoch 6/15\n",
            "13/13 [==============================] - 27s 2s/step - loss: 0.1067 - accuracy: 0.9631 - val_loss: 0.2267 - val_accuracy: 0.9314\n",
            "Epoch 7/15\n",
            "13/13 [==============================] - 27s 2s/step - loss: 0.0726 - accuracy: 0.9723 - val_loss: 0.4023 - val_accuracy: 0.8940\n",
            "Epoch 8/15\n",
            "13/13 [==============================] - 27s 2s/step - loss: 0.0942 - accuracy: 0.9692 - val_loss: 0.2607 - val_accuracy: 0.9210\n",
            "Epoch 9/15\n",
            "13/13 [==============================] - 27s 2s/step - loss: 0.0462 - accuracy: 0.9856 - val_loss: 0.2769 - val_accuracy: 0.9231\n",
            "Epoch 10/15\n",
            "13/13 [==============================] - 27s 2s/step - loss: 0.0316 - accuracy: 0.9918 - val_loss: 0.2850 - val_accuracy: 0.9189\n",
            "Epoch 11/15\n",
            "13/13 [==============================] - 27s 2s/step - loss: 0.0139 - accuracy: 0.9959 - val_loss: 0.3101 - val_accuracy: 0.9314\n",
            "Epoch 12/15\n",
            "13/13 [==============================] - 27s 2s/step - loss: 0.0137 - accuracy: 0.9969 - val_loss: 0.3311 - val_accuracy: 0.9335\n",
            "Epoch 13/15\n",
            "13/13 [==============================] - 27s 2s/step - loss: 0.0137 - accuracy: 0.9928 - val_loss: 0.3605 - val_accuracy: 0.9272\n",
            "Epoch 14/15\n",
            "13/13 [==============================] - 29s 2s/step - loss: 0.0122 - accuracy: 0.9990 - val_loss: 0.3269 - val_accuracy: 0.9252\n",
            "Epoch 15/15\n",
            "13/13 [==============================] - 27s 2s/step - loss: 0.0099 - accuracy: 0.9969 - val_loss: 0.3652 - val_accuracy: 0.9335\n",
            "46/46 [==============================] - 8s 170ms/step - loss: 0.1217 - accuracy: 0.9780\n",
            "CNN Error: 2.20%\n"
          ]
        }
      ]
    },
    {
      "cell_type": "code",
      "metadata": {
        "id": "I9s9TkB5RzIJ"
      },
      "source": [
        ""
      ],
      "execution_count": null,
      "outputs": []
    },
    {
      "cell_type": "markdown",
      "metadata": {
        "id": "KXmhBZ4e-eTb"
      },
      "source": [
        "###**Architecture 2**"
      ]
    },
    {
      "cell_type": "code",
      "metadata": {
        "id": "SkZ2OhUA-tH5",
        "colab": {
          "base_uri": "https://localhost:8080/"
        },
        "outputId": "13cbf921-8bd8-4ac7-8d51-5861c9b1afe6"
      },
      "source": [
        "model2 = Sequential()\n",
        "model2.add(Conv2D(128, (3, 3), input_shape=(128,128,1),padding='valid',strides=(1,1), activation='relu'))\n",
        "model2.add(MaxPooling2D(pool_size=(2, 2)))\n",
        "model2.add(Dropout(0.2))\n",
        "model2.add(Conv2D(64, (3, 3), activation='relu'))\n",
        "model2.add(MaxPooling2D(pool_size=(2, 2)))\n",
        "model2.add(Conv2D(32, (3, 3), activation='relu'))\n",
        "model2.add(MaxPooling2D(pool_size=(2, 2)))\n",
        "model2.add(Dropout(0.2))\n",
        "model2.add(Flatten())\n",
        "model2.add(Dense(256, activation='relu'))\n",
        "model2.add(Dense(6, activation='softmax'))\n",
        "model2.summary()\n",
        "model2.compile(loss='categorical_crossentropy', optimizer='Adam', metrics=['accuracy'])"
      ],
      "execution_count": null,
      "outputs": [
        {
          "output_type": "stream",
          "name": "stdout",
          "text": [
            "Model: \"sequential_1\"\n",
            "_________________________________________________________________\n",
            "Layer (type)                 Output Shape              Param #   \n",
            "=================================================================\n",
            "conv2d_3 (Conv2D)            (None, 126, 126, 128)     1280      \n",
            "_________________________________________________________________\n",
            "max_pooling2d_3 (MaxPooling2 (None, 63, 63, 128)       0         \n",
            "_________________________________________________________________\n",
            "dropout_1 (Dropout)          (None, 63, 63, 128)       0         \n",
            "_________________________________________________________________\n",
            "conv2d_4 (Conv2D)            (None, 61, 61, 64)        73792     \n",
            "_________________________________________________________________\n",
            "max_pooling2d_4 (MaxPooling2 (None, 30, 30, 64)        0         \n",
            "_________________________________________________________________\n",
            "conv2d_5 (Conv2D)            (None, 28, 28, 32)        18464     \n",
            "_________________________________________________________________\n",
            "max_pooling2d_5 (MaxPooling2 (None, 14, 14, 32)        0         \n",
            "_________________________________________________________________\n",
            "dropout_2 (Dropout)          (None, 14, 14, 32)        0         \n",
            "_________________________________________________________________\n",
            "flatten_1 (Flatten)          (None, 6272)              0         \n",
            "_________________________________________________________________\n",
            "dense_2 (Dense)              (None, 256)               1605888   \n",
            "_________________________________________________________________\n",
            "dense_3 (Dense)              (None, 6)                 1542      \n",
            "=================================================================\n",
            "Total params: 1,700,966\n",
            "Trainable params: 1,700,966\n",
            "Non-trainable params: 0\n",
            "_________________________________________________________________\n"
          ]
        }
      ]
    },
    {
      "cell_type": "code",
      "metadata": {
        "id": "DFWpIIBRC7-8",
        "colab": {
          "base_uri": "https://localhost:8080/"
        },
        "outputId": "156c8ee3-6335-4e61-8b68-af6543464736"
      },
      "source": [
        "model2.fit(X_train, y_train, validation_data=(X_test, y_test), epochs=13, batch_size=100, verbose=1)\n",
        "scores2 = model2.evaluate(images, y_labels, verbose=1)\n",
        "print(\"CNN Error: %.2f%%\" % (100-scores2[1]*100))"
      ],
      "execution_count": null,
      "outputs": [
        {
          "output_type": "stream",
          "name": "stdout",
          "text": [
            "Epoch 1/13\n",
            "10/10 [==============================] - 80s 8s/step - loss: 1.1285 - accuracy: 0.5733 - val_loss: 0.6703 - val_accuracy: 0.7443\n",
            "Epoch 2/13\n",
            "10/10 [==============================] - 77s 8s/step - loss: 0.5062 - accuracy: 0.8297 - val_loss: 0.3731 - val_accuracy: 0.8690\n",
            "Epoch 3/13\n",
            "10/10 [==============================] - 76s 8s/step - loss: 0.2811 - accuracy: 0.8892 - val_loss: 0.3512 - val_accuracy: 0.8836\n",
            "Epoch 4/13\n",
            "10/10 [==============================] - 76s 8s/step - loss: 0.1536 - accuracy: 0.9467 - val_loss: 0.2779 - val_accuracy: 0.9106\n",
            "Epoch 5/13\n",
            "10/10 [==============================] - 76s 8s/step - loss: 0.0853 - accuracy: 0.9692 - val_loss: 0.2943 - val_accuracy: 0.9085\n",
            "Epoch 6/13\n",
            "10/10 [==============================] - 77s 8s/step - loss: 0.0416 - accuracy: 0.9826 - val_loss: 0.3054 - val_accuracy: 0.9189\n",
            "Epoch 7/13\n",
            "10/10 [==============================] - 80s 8s/step - loss: 0.0196 - accuracy: 0.9949 - val_loss: 0.4448 - val_accuracy: 0.9148\n",
            "Epoch 8/13\n",
            "10/10 [==============================] - 77s 8s/step - loss: 0.0181 - accuracy: 0.9918 - val_loss: 0.4846 - val_accuracy: 0.9044\n",
            "Epoch 9/13\n",
            "10/10 [==============================] - 77s 8s/step - loss: 0.0397 - accuracy: 0.9836 - val_loss: 0.3615 - val_accuracy: 0.9189\n",
            "Epoch 10/13\n",
            "10/10 [==============================] - 77s 8s/step - loss: 0.0214 - accuracy: 0.9928 - val_loss: 0.3590 - val_accuracy: 0.9148\n",
            "Epoch 11/13\n",
            "10/10 [==============================] - 77s 8s/step - loss: 0.0250 - accuracy: 0.9928 - val_loss: 0.3952 - val_accuracy: 0.9168\n",
            "Epoch 12/13\n",
            "10/10 [==============================] - 77s 8s/step - loss: 0.0127 - accuracy: 0.9959 - val_loss: 0.3748 - val_accuracy: 0.9231\n",
            "Epoch 13/13\n",
            "10/10 [==============================] - 78s 8s/step - loss: 0.0069 - accuracy: 0.9969 - val_loss: 0.3812 - val_accuracy: 0.9272\n",
            "46/46 [==============================] - 25s 545ms/step - loss: 0.1269 - accuracy: 0.9760\n",
            "CNN Error: 2.40%\n"
          ]
        }
      ]
    },
    {
      "cell_type": "markdown",
      "metadata": {
        "id": "DLcPMltVIcW1"
      },
      "source": [
        "###**Architecture 3**"
      ]
    },
    {
      "cell_type": "code",
      "metadata": {
        "colab": {
          "base_uri": "https://localhost:8080/"
        },
        "id": "nwnvRrlQ6jpv",
        "outputId": "6b13cf56-3e40-47bc-8a46-a602ed2604bd"
      },
      "source": [
        "model3 = Sequential()\n",
        "model3.add(Conv2D(32, (5, 5), activation='relu', strides=(2, 2), padding='same', input_shape=(128, 128, 1)))\n",
        "model3.add(MaxPooling2D(pool_size=(2, 2)))\n",
        "model3.add(Conv2D(50, (5, 5), activation='relu', padding='same'))\n",
        "model3.add(MaxPooling2D(pool_size=(2, 2)))   \n",
        "model3.add(Conv2D(70, (3, 3), activation='relu', padding='same'))\n",
        "model3.add(MaxPooling2D(pool_size=(2, 2)))\n",
        "model3.add(Flatten())\n",
        "model3.add(Dense(100, activation='relu'))              \n",
        "model3.add(Dropout(0.1))\n",
        "model3.add(Dense(6, activation='softmax'))\n",
        "model3.summary()\n",
        "model3.compile(loss = 'binary_crossentropy', optimizer = 'rmsprop', metrics = ['accuracy'])"
      ],
      "execution_count": null,
      "outputs": [
        {
          "output_type": "stream",
          "name": "stdout",
          "text": [
            "Model: \"sequential_2\"\n",
            "_________________________________________________________________\n",
            "Layer (type)                 Output Shape              Param #   \n",
            "=================================================================\n",
            "conv2d_6 (Conv2D)            (None, 64, 64, 32)        832       \n",
            "_________________________________________________________________\n",
            "max_pooling2d_6 (MaxPooling2 (None, 32, 32, 32)        0         \n",
            "_________________________________________________________________\n",
            "conv2d_7 (Conv2D)            (None, 32, 32, 50)        40050     \n",
            "_________________________________________________________________\n",
            "max_pooling2d_7 (MaxPooling2 (None, 16, 16, 50)        0         \n",
            "_________________________________________________________________\n",
            "conv2d_8 (Conv2D)            (None, 16, 16, 70)        31570     \n",
            "_________________________________________________________________\n",
            "max_pooling2d_8 (MaxPooling2 (None, 8, 8, 70)          0         \n",
            "_________________________________________________________________\n",
            "flatten_2 (Flatten)          (None, 4480)              0         \n",
            "_________________________________________________________________\n",
            "dense_4 (Dense)              (None, 100)               448100    \n",
            "_________________________________________________________________\n",
            "dropout_3 (Dropout)          (None, 100)               0         \n",
            "_________________________________________________________________\n",
            "dense_5 (Dense)              (None, 6)                 606       \n",
            "=================================================================\n",
            "Total params: 521,158\n",
            "Trainable params: 521,158\n",
            "Non-trainable params: 0\n",
            "_________________________________________________________________\n"
          ]
        }
      ]
    },
    {
      "cell_type": "code",
      "metadata": {
        "id": "ACFf6YAtKTQw",
        "colab": {
          "base_uri": "https://localhost:8080/"
        },
        "outputId": "c9a0ce2c-8f63-444b-bb49-5cfc8bb83e7e"
      },
      "source": [
        "model3.fit(X_train, y_train, validation_data=(X_test, y_test), epochs=15, batch_size=100, verbose=1)\n",
        "scores3 = model3.evaluate(images, y_labels, verbose=1)\n",
        "print(\"CNN Error: %.2f%%\" % (100-scores3[1]*100))"
      ],
      "execution_count": null,
      "outputs": [
        {
          "output_type": "stream",
          "name": "stdout",
          "text": [
            "Epoch 1/15\n",
            "10/10 [==============================] - 15s 1s/step - loss: 0.4860 - accuracy: 0.3169 - val_loss: 0.3350 - val_accuracy: 0.5177\n",
            "Epoch 2/15\n",
            "10/10 [==============================] - 14s 1s/step - loss: 0.2826 - accuracy: 0.6421 - val_loss: 0.2021 - val_accuracy: 0.8170\n",
            "Epoch 3/15\n",
            "10/10 [==============================] - 14s 1s/step - loss: 0.1931 - accuracy: 0.7897 - val_loss: 0.1214 - val_accuracy: 0.8815\n",
            "Epoch 4/15\n",
            "10/10 [==============================] - 14s 1s/step - loss: 0.1481 - accuracy: 0.8667 - val_loss: 0.1343 - val_accuracy: 0.8503\n",
            "Epoch 5/15\n",
            "10/10 [==============================] - 14s 1s/step - loss: 0.1149 - accuracy: 0.8903 - val_loss: 0.0831 - val_accuracy: 0.9106\n",
            "Epoch 6/15\n",
            "10/10 [==============================] - 14s 1s/step - loss: 0.0995 - accuracy: 0.9005 - val_loss: 0.0800 - val_accuracy: 0.9252\n",
            "Epoch 7/15\n",
            "10/10 [==============================] - 14s 1s/step - loss: 0.0691 - accuracy: 0.9374 - val_loss: 0.0648 - val_accuracy: 0.9314\n",
            "Epoch 8/15\n",
            "10/10 [==============================] - 14s 1s/step - loss: 0.0595 - accuracy: 0.9508 - val_loss: 0.0705 - val_accuracy: 0.9376\n",
            "Epoch 9/15\n",
            "10/10 [==============================] - 14s 1s/step - loss: 0.0476 - accuracy: 0.9579 - val_loss: 0.0533 - val_accuracy: 0.9501\n",
            "Epoch 10/15\n",
            "10/10 [==============================] - 14s 1s/step - loss: 0.0354 - accuracy: 0.9713 - val_loss: 0.0554 - val_accuracy: 0.9356\n",
            "Epoch 11/15\n",
            "10/10 [==============================] - 14s 1s/step - loss: 0.0284 - accuracy: 0.9764 - val_loss: 0.0545 - val_accuracy: 0.9522\n",
            "Epoch 12/15\n",
            "10/10 [==============================] - 14s 1s/step - loss: 0.0288 - accuracy: 0.9744 - val_loss: 0.0538 - val_accuracy: 0.9480\n",
            "Epoch 13/15\n",
            "10/10 [==============================] - 14s 1s/step - loss: 0.0162 - accuracy: 0.9887 - val_loss: 0.0654 - val_accuracy: 0.9439\n",
            "Epoch 14/15\n",
            "10/10 [==============================] - 14s 1s/step - loss: 0.0136 - accuracy: 0.9877 - val_loss: 0.0590 - val_accuracy: 0.9522\n",
            "Epoch 15/15\n",
            "10/10 [==============================] - 14s 1s/step - loss: 0.0180 - accuracy: 0.9815 - val_loss: 0.0757 - val_accuracy: 0.9231\n",
            "46/46 [==============================] - 5s 112ms/step - loss: 0.0398 - accuracy: 0.9602\n",
            "CNN Error: 3.98%\n"
          ]
        }
      ]
    },
    {
      "cell_type": "markdown",
      "metadata": {
        "id": "13SCbpov9HjZ"
      },
      "source": [
        "###**Architecture 4**"
      ]
    },
    {
      "cell_type": "code",
      "metadata": {
        "colab": {
          "base_uri": "https://localhost:8080/"
        },
        "id": "wWHLuRtR9F0J",
        "outputId": "6e414379-fcc6-4094-d79e-d6b7f9a4901b"
      },
      "source": [
        "model4 = Sequential()\n",
        "model4.add(Conv2D(128, (5, 5), activation='relu',  padding='valid', input_shape=(128, 128, 1)))\n",
        "model4.add(MaxPooling2D(pool_size=(2, 2)))\n",
        "model4.add(Conv2D(64, (5, 5), activation='relu', padding='valid'))\n",
        "model4.add(MaxPooling2D(pool_size=(2, 2)))\n",
        "model4.add(Conv2D(32, (3, 3), activation='relu', padding='valid'))\n",
        "model4.add(MaxPooling2D(pool_size=(2, 2)))\n",
        "model4.add(Conv2D(16, (3, 3), activation='relu', padding='valid'))\n",
        "model4.add(MaxPooling2D(pool_size=(2, 2)))\n",
        "model4.add(Flatten())\n",
        "model4.add(Dense(100, activation='relu'))\n",
        "model4.add(Dropout(0.4))\n",
        "model4.add(Dense(6, activation='sigmoid'))\n",
        "model4.summary()\n",
        "model4.compile(loss = 'categorical_crossentropy', optimizer = 'adam', metrics = ['accuracy'])"
      ],
      "execution_count": null,
      "outputs": [
        {
          "output_type": "stream",
          "name": "stdout",
          "text": [
            "Model: \"sequential_5\"\n",
            "_________________________________________________________________\n",
            "Layer (type)                 Output Shape              Param #   \n",
            "=================================================================\n",
            "conv2d_17 (Conv2D)           (None, 124, 124, 128)     3328      \n",
            "_________________________________________________________________\n",
            "max_pooling2d_16 (MaxPooling (None, 62, 62, 128)       0         \n",
            "_________________________________________________________________\n",
            "conv2d_18 (Conv2D)           (None, 58, 58, 64)        204864    \n",
            "_________________________________________________________________\n",
            "max_pooling2d_17 (MaxPooling (None, 29, 29, 64)        0         \n",
            "_________________________________________________________________\n",
            "conv2d_19 (Conv2D)           (None, 27, 27, 32)        18464     \n",
            "_________________________________________________________________\n",
            "max_pooling2d_18 (MaxPooling (None, 13, 13, 32)        0         \n",
            "_________________________________________________________________\n",
            "conv2d_20 (Conv2D)           (None, 11, 11, 16)        4624      \n",
            "_________________________________________________________________\n",
            "max_pooling2d_19 (MaxPooling (None, 5, 5, 16)          0         \n",
            "_________________________________________________________________\n",
            "flatten_4 (Flatten)          (None, 400)               0         \n",
            "_________________________________________________________________\n",
            "dense_8 (Dense)              (None, 100)               40100     \n",
            "_________________________________________________________________\n",
            "dropout_5 (Dropout)          (None, 100)               0         \n",
            "_________________________________________________________________\n",
            "dense_9 (Dense)              (None, 6)                 606       \n",
            "=================================================================\n",
            "Total params: 271,986\n",
            "Trainable params: 271,986\n",
            "Non-trainable params: 0\n",
            "_________________________________________________________________\n"
          ]
        }
      ]
    },
    {
      "cell_type": "code",
      "metadata": {
        "colab": {
          "base_uri": "https://localhost:8080/"
        },
        "id": "NCsMsyWA9WAV",
        "outputId": "7d8ac5f7-ed3c-4edf-acf2-e97e96352533"
      },
      "source": [
        "model4.fit(X_train, y_train, validation_data=(X_test, y_test), epochs=12, batch_size=150, verbose=1)\n",
        "scores4 = model4.evaluate(images, y_labels, verbose=1)\n",
        "print(\"CNN Error: %.2f%%\" % (100-scores4[1]*100))"
      ],
      "execution_count": null,
      "outputs": [
        {
          "output_type": "stream",
          "name": "stdout",
          "text": [
            "Epoch 1/12\n",
            "7/7 [==============================] - 144s 21s/step - loss: 1.6547 - accuracy: 0.3364 - val_loss: 1.2279 - val_accuracy: 0.5821\n",
            "Epoch 2/12\n",
            "7/7 [==============================] - 152s 22s/step - loss: 1.2437 - accuracy: 0.5374 - val_loss: 0.8209 - val_accuracy: 0.7256\n",
            "Epoch 3/12\n",
            "7/7 [==============================] - 146s 21s/step - loss: 0.9466 - accuracy: 0.6523 - val_loss: 0.6458 - val_accuracy: 0.7859\n",
            "Epoch 4/12\n",
            "7/7 [==============================] - 147s 21s/step - loss: 0.7397 - accuracy: 0.7374 - val_loss: 0.5045 - val_accuracy: 0.8129\n",
            "Epoch 5/12\n",
            "7/7 [==============================] - 142s 20s/step - loss: 0.6392 - accuracy: 0.7836 - val_loss: 0.4375 - val_accuracy: 0.8462\n",
            "Epoch 6/12\n",
            "7/7 [==============================] - 142s 21s/step - loss: 0.5306 - accuracy: 0.8051 - val_loss: 0.3896 - val_accuracy: 0.8586\n",
            "Epoch 7/12\n",
            "7/7 [==============================] - 138s 20s/step - loss: 0.4184 - accuracy: 0.8574 - val_loss: 0.3647 - val_accuracy: 0.8649\n",
            "Epoch 8/12\n",
            "7/7 [==============================] - 137s 19s/step - loss: 0.3648 - accuracy: 0.8677 - val_loss: 0.3440 - val_accuracy: 0.8669\n",
            "Epoch 9/12\n",
            "7/7 [==============================] - 139s 20s/step - loss: 0.3057 - accuracy: 0.8882 - val_loss: 0.3163 - val_accuracy: 0.8836\n",
            "Epoch 10/12\n",
            "7/7 [==============================] - 135s 19s/step - loss: 0.2656 - accuracy: 0.8944 - val_loss: 0.3300 - val_accuracy: 0.8607\n",
            "Epoch 11/12\n",
            "7/7 [==============================] - 143s 21s/step - loss: 0.2644 - accuracy: 0.9046 - val_loss: 0.3003 - val_accuracy: 0.8815\n",
            "Epoch 12/12\n",
            "7/7 [==============================] - 138s 20s/step - loss: 0.2106 - accuracy: 0.9282 - val_loss: 0.3150 - val_accuracy: 0.8898\n",
            "46/46 [==============================] - 45s 987ms/step - loss: 0.1672 - accuracy: 0.9396\n",
            "CNN Error: 6.04%\n"
          ]
        }
      ]
    },
    {
      "cell_type": "markdown",
      "metadata": {
        "id": "i1vYpBw73_IQ"
      },
      "source": [
        "###**Architecture 5**"
      ]
    },
    {
      "cell_type": "code",
      "metadata": {
        "id": "nDZpbzt-6MOf",
        "colab": {
          "base_uri": "https://localhost:8080/"
        },
        "outputId": "d00de654-f9cb-4b6b-b7e0-89362bbc870f"
      },
      "source": [
        "model5 = Sequential()\n",
        "model5.add(Conv2D(64, (5, 5), input_shape=(128,128,1), activation='relu'))\n",
        "model5.add(MaxPooling2D(pool_size=(2, 2)))\n",
        "model5.add(Dropout(0.2))\n",
        "model5.add(Conv2D(32, (5, 5), activation='relu'))\n",
        "model5.add(MaxPooling2D(pool_size=(2, 2)))\n",
        "model5.add(Conv2D(32, (5, 5), activation='relu'))\n",
        "model5.add(MaxPooling2D(pool_size=(2, 2)))\n",
        "model5.add(Dropout(0.2))\n",
        "model5.add(Conv2D(32, (5, 5), activation='relu'))\n",
        "model5.add(MaxPooling2D(pool_size=(2, 2)))\n",
        "model5.add(Dropout(0.2))\n",
        "model5.add(Flatten())\n",
        "model5.add(Dense(256, activation='relu'))\n",
        "model5.add(Dense(6, activation='softmax'))\n",
        "model5.summary()\n",
        "model5.compile(loss='categorical_crossentropy', optimizer='adam', metrics=['accuracy'])"
      ],
      "execution_count": null,
      "outputs": [
        {
          "output_type": "stream",
          "name": "stdout",
          "text": [
            "Model: \"sequential_6\"\n",
            "_________________________________________________________________\n",
            "Layer (type)                 Output Shape              Param #   \n",
            "=================================================================\n",
            "conv2d_21 (Conv2D)           (None, 124, 124, 64)      1664      \n",
            "_________________________________________________________________\n",
            "max_pooling2d_20 (MaxPooling (None, 62, 62, 64)        0         \n",
            "_________________________________________________________________\n",
            "dropout_6 (Dropout)          (None, 62, 62, 64)        0         \n",
            "_________________________________________________________________\n",
            "conv2d_22 (Conv2D)           (None, 58, 58, 32)        51232     \n",
            "_________________________________________________________________\n",
            "max_pooling2d_21 (MaxPooling (None, 29, 29, 32)        0         \n",
            "_________________________________________________________________\n",
            "conv2d_23 (Conv2D)           (None, 25, 25, 32)        25632     \n",
            "_________________________________________________________________\n",
            "max_pooling2d_22 (MaxPooling (None, 12, 12, 32)        0         \n",
            "_________________________________________________________________\n",
            "dropout_7 (Dropout)          (None, 12, 12, 32)        0         \n",
            "_________________________________________________________________\n",
            "conv2d_24 (Conv2D)           (None, 8, 8, 32)          25632     \n",
            "_________________________________________________________________\n",
            "max_pooling2d_23 (MaxPooling (None, 4, 4, 32)          0         \n",
            "_________________________________________________________________\n",
            "dropout_8 (Dropout)          (None, 4, 4, 32)          0         \n",
            "_________________________________________________________________\n",
            "flatten_5 (Flatten)          (None, 512)               0         \n",
            "_________________________________________________________________\n",
            "dense_10 (Dense)             (None, 256)               131328    \n",
            "_________________________________________________________________\n",
            "dense_11 (Dense)             (None, 6)                 1542      \n",
            "=================================================================\n",
            "Total params: 237,030\n",
            "Trainable params: 237,030\n",
            "Non-trainable params: 0\n",
            "_________________________________________________________________\n"
          ]
        }
      ]
    },
    {
      "cell_type": "code",
      "metadata": {
        "id": "1qHyR5uy48U1",
        "colab": {
          "base_uri": "https://localhost:8080/"
        },
        "outputId": "7a6c4365-cc94-4703-8a85-f095f2778607"
      },
      "source": [
        "model5.fit(X_train, y_train, validation_data=(X_test, y_test), epochs=15, batch_size=100, verbose=1)"
      ],
      "execution_count": null,
      "outputs": [
        {
          "output_type": "stream",
          "name": "stdout",
          "text": [
            "Epoch 1/15\n",
            "10/10 [==============================] - 59s 6s/step - loss: 1.5340 - accuracy: 0.4226 - val_loss: 0.9986 - val_accuracy: 0.6881\n",
            "Epoch 2/15\n",
            "10/10 [==============================] - 59s 6s/step - loss: 0.8776 - accuracy: 0.6821 - val_loss: 0.6056 - val_accuracy: 0.8129\n",
            "Epoch 3/15\n",
            "10/10 [==============================] - 58s 6s/step - loss: 0.5288 - accuracy: 0.8185 - val_loss: 0.3439 - val_accuracy: 0.8815\n",
            "Epoch 4/15\n",
            "10/10 [==============================] - 62s 6s/step - loss: 0.3466 - accuracy: 0.8738 - val_loss: 0.3119 - val_accuracy: 0.8732\n",
            "Epoch 5/15\n",
            "10/10 [==============================] - 58s 6s/step - loss: 0.2825 - accuracy: 0.9067 - val_loss: 0.2211 - val_accuracy: 0.9293\n",
            "Epoch 6/15\n",
            "10/10 [==============================] - 58s 6s/step - loss: 0.2221 - accuracy: 0.9221 - val_loss: 0.2068 - val_accuracy: 0.9272\n",
            "Epoch 7/15\n",
            "10/10 [==============================] - 58s 6s/step - loss: 0.2054 - accuracy: 0.9138 - val_loss: 0.2212 - val_accuracy: 0.9272\n",
            "Epoch 8/15\n",
            "10/10 [==============================] - 58s 6s/step - loss: 0.1551 - accuracy: 0.9456 - val_loss: 0.1988 - val_accuracy: 0.9356\n",
            "Epoch 9/15\n",
            "10/10 [==============================] - 58s 6s/step - loss: 0.1170 - accuracy: 0.9569 - val_loss: 0.1716 - val_accuracy: 0.9397\n",
            "Epoch 10/15\n",
            "10/10 [==============================] - 58s 6s/step - loss: 0.0983 - accuracy: 0.9600 - val_loss: 0.2007 - val_accuracy: 0.9335\n",
            "Epoch 11/15\n",
            "10/10 [==============================] - 58s 6s/step - loss: 0.1068 - accuracy: 0.9579 - val_loss: 0.1727 - val_accuracy: 0.9418\n",
            "Epoch 12/15\n",
            "10/10 [==============================] - 58s 6s/step - loss: 0.0849 - accuracy: 0.9733 - val_loss: 0.1872 - val_accuracy: 0.9376\n",
            "Epoch 13/15\n",
            "10/10 [==============================] - 58s 6s/step - loss: 0.0685 - accuracy: 0.9785 - val_loss: 0.1791 - val_accuracy: 0.9397\n",
            "Epoch 14/15\n",
            "10/10 [==============================] - 58s 6s/step - loss: 0.0633 - accuracy: 0.9785 - val_loss: 0.1901 - val_accuracy: 0.9439\n",
            "Epoch 15/15\n",
            "10/10 [==============================] - 58s 6s/step - loss: 0.0672 - accuracy: 0.9723 - val_loss: 0.1756 - val_accuracy: 0.9439\n"
          ]
        },
        {
          "output_type": "execute_result",
          "data": {
            "text/plain": [
              "<keras.callbacks.History at 0x7f8b050fc2d0>"
            ]
          },
          "metadata": {},
          "execution_count": 32
        }
      ]
    },
    {
      "cell_type": "code",
      "metadata": {
        "colab": {
          "base_uri": "https://localhost:8080/"
        },
        "id": "RLSO8PdVJLVE",
        "outputId": "19a0763c-7048-41fd-ad96-3144c2504eb9"
      },
      "source": [
        "scores5 = model5.evaluate(images, y_labels, verbose=1)\n",
        "print(\"CNN Error: %.2f%%\" % (100-scores5[1]*100))"
      ],
      "execution_count": null,
      "outputs": [
        {
          "output_type": "stream",
          "name": "stdout",
          "text": [
            "46/46 [==============================] - 16s 356ms/step - loss: 0.0669 - accuracy: 0.9808\n",
            "CNN Error: 1.92%\n"
          ]
        }
      ]
    },
    {
      "cell_type": "code",
      "source": [
        ""
      ],
      "metadata": {
        "id": "RVha-jQqeLv3"
      },
      "execution_count": null,
      "outputs": []
    },
    {
      "cell_type": "markdown",
      "source": [
        "### Architecture 5 performed the best"
      ],
      "metadata": {
        "id": "VSyYVvgOeMcG"
      }
    },
    {
      "cell_type": "markdown",
      "metadata": {
        "id": "HGWG_cnv7Igp"
      },
      "source": [
        "#Image Prediction"
      ]
    },
    {
      "cell_type": "code",
      "metadata": {
        "id": "Nl_yNHL-CDVG"
      },
      "source": [
        "pred1 = model1.predict(X_test)\n",
        "pred2 = model2.predict(X_test)\n",
        "pred3 = model3.predict(X_test)\n",
        "pred4 = model4.predict(X_test)\n",
        "pred5 = model5.predict(X_test)"
      ],
      "execution_count": null,
      "outputs": []
    },
    {
      "cell_type": "code",
      "metadata": {
        "id": "vCmcpAsmCmvp"
      },
      "source": [
        "y_pred1 = np.round(pred1).astype(int)\n",
        "y_pred2 = np.round(pred2).astype(int)\n",
        "y_pred3 = np.round(pred3).astype(int)\n",
        "y_pred4 = np.round(pred4).astype(int)\n",
        "y_pred5 = np.round(pred5).astype(int)"
      ],
      "execution_count": null,
      "outputs": []
    },
    {
      "cell_type": "code",
      "metadata": {
        "id": "_Qn0wa8Fp_-s"
      },
      "source": [
        "y_classes1 = y_pred1.argmax(axis=-1)\n",
        "y_classes2 = y_pred2.argmax(axis=-1)\n",
        "y_classes3 = y_pred3.argmax(axis=-1)\n",
        "y_classes4 = y_pred4.argmax(axis=-1)\n",
        "y_classes5 = y_pred5.argmax(axis=-1)"
      ],
      "execution_count": null,
      "outputs": []
    },
    {
      "cell_type": "code",
      "metadata": {
        "id": "NiummSoDEe-F"
      },
      "source": [
        "MAP = { \n",
        "    2:u'\\u0B8E', \n",
        "    3:u'\\u0B8F', \n",
        "    4:u'\\u0B90', \n",
        "    5:u'\\u0B92', \n",
        "    0:u'\\u0B93', \n",
        "    1:u'\\u0B94'}"
      ],
      "execution_count": null,
      "outputs": []
    },
    {
      "cell_type": "code",
      "metadata": {
        "id": "AT_Ll5po8jT-"
      },
      "source": [
        "classpred1 = []\n",
        "classpred2 = []\n",
        "classpred3 = []\n",
        "classpred4 = []\n",
        "classpred5 = []\n",
        "for i in range(0,len(y_classes1)):\n",
        "  classpred1.append(MAP[y_classes1[i]])\n",
        "  classpred2.append(MAP[y_classes2[i]])\n",
        "  classpred3.append(MAP[y_classes3[i]])\n",
        "  classpred4.append(MAP[y_classes4[i]])\n",
        "  classpred5.append(MAP[y_classes5[i]])"
      ],
      "execution_count": null,
      "outputs": []
    },
    {
      "cell_type": "code",
      "metadata": {
        "colab": {
          "base_uri": "https://localhost:8080/",
          "height": 483
        },
        "id": "afOAIN_j-p4f",
        "outputId": "a1a9688b-fe0f-4166-aa53-b4ccd829666f"
      },
      "source": [
        "# create figure\n",
        "fig = plt.figure(figsize=(10, 7))\n",
        "  \n",
        "# setting values to rows and column variables\n",
        "rows = 5\n",
        "columns = 5\n",
        "  \n",
        "fig = plt.figure(figsize=(10, 8))\n",
        "j = 0\n",
        "for i in range(0,25):\n",
        "  img=X_test[i]\n",
        "  j=j+1\n",
        "  fig.add_subplot(rows, columns, j)\n",
        "  img.shape=(128,128)\n",
        "  plt.axis('off')\n",
        "  plt.imshow(img)"
      ],
      "execution_count": null,
      "outputs": [
        {
          "output_type": "display_data",
          "data": {
            "text/plain": [
              "<Figure size 720x504 with 0 Axes>"
            ]
          },
          "metadata": {}
        },
        {
          "output_type": "display_data",
          "data": {
            "image/png": "[encoded data removed]",
            "text/plain": [
              "<Figure size 720x576 with 25 Axes>"
            ]
          },
          "metadata": {
            "needs_background": "light"
          }
        }
      ]
    },
    {
      "cell_type": "code",
      "metadata": {
        "id": "fjR2koIrs8Nx",
        "colab": {
          "base_uri": "https://localhost:8080/"
        },
        "outputId": "e2a7c6ae-1ee6-40a4-eb29-e6d0708a1351"
      },
      "source": [
        "print(\"The predicted classes from Architecture 1: \",classpred1[0:25])\n",
        "print(\"The predicted classes from Architecture 2: \",classpred2[0:25])\n",
        "print(\"The predicted classes from Architecture 3: \",classpred3[0:25])\n",
        "print(\"The predicted classes from Architecture 4: \",classpred4[0:25])\n",
        "print(\"The predicted classes from Architecture 5: \",classpred5[0:25])"
      ],
      "execution_count": null,
      "outputs": [
        {
          "output_type": "stream",
          "name": "stdout",
          "text": [
            "The predicted classes from Architecture 1:  ['ஏ', 'எ', 'ஏ', 'ஓ', 'ஓ', 'ஒ', 'ஐ', 'எ', 'எ', 'ஓ', 'எ', 'ஒ', 'ஓ', 'ஏ', 'ஒ', 'ஓ', 'ஐ', 'ஓ', 'ஒ', 'ஐ', 'ஓ', 'ஏ', 'ஒ', 'ஓ', 'ஐ']\n",
            "The predicted classes from Architecture 2:  ['ஏ', 'ஏ', 'ஏ', 'ஓ', 'ஓ', 'ஒ', 'ஐ', 'எ', 'எ', 'ஓ', 'எ', 'ஒ', 'ஓ', 'ஒ', 'ஒ', 'ஓ', 'ஐ', 'ஓ', 'ஒ', 'ஐ', 'ஓ', 'ஓ', 'ஒ', 'ஓ', 'ஓ']\n",
            "The predicted classes from Architecture 3:  ['ஏ', 'எ', 'ஏ', 'ஓ', 'ஓ', 'ஒ', 'ஐ', 'எ', 'எ', 'ஓ', 'எ', 'ஓ', 'ஓ', 'ஓ', 'ஓ', 'ஓ', 'ஐ', 'ஓ', 'ஓ', 'ஐ', 'ஓ', 'ஏ', 'ஓ', 'ஓ', 'ஓ']\n",
            "The predicted classes from Architecture 4:  ['ஏ', 'ஏ', 'ஏ', 'ஏ', 'ஓ', 'ஒ', 'ஐ', 'எ', 'எ', 'ஓ', 'எ', 'ஒ', 'ஓ', 'ஏ', 'ஒ', 'ஓ', 'ஐ', 'ஓ', 'ஒ', 'ஐ', 'ஓ', 'ஏ', 'ஒ', 'ஓ', 'ஐ']\n",
            "The predicted classes from Architecture 5:  ['ஏ', 'எ', 'ஏ', 'ஓ', 'ஓ', 'ஒ', 'ஐ', 'எ', 'எ', 'ஓ', 'எ', 'ஒ', 'ஓ', 'ஒ', 'ஒ', 'ஓ', 'ஐ', 'ஓ', 'ஒ', 'ஐ', 'ஓ', 'ஏ', 'ஓ', 'ஒ', 'ஐ']\n"
          ]
        }
      ]
    },
    {
      "cell_type": "code",
      "metadata": {
        "id": "9xznOlQr2XDS"
      },
      "source": [
        ""
      ],
      "execution_count": null,
      "outputs": []
    }
  ]
}