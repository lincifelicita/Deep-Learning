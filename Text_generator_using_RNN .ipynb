{
  "nbformat": 4,
  "nbformat_minor": 0,
  "metadata": {
    "colab": {
      "name": "Text generator_using RNN.ipynb",
      "provenance": []
    },
    "kernelspec": {
      "name": "python3",
      "display_name": "Python 3"
    },
    "language_info": {
      "name": "python"
    }
  },
  "cells": [
    {
      "cell_type": "markdown",
      "metadata": {
        "id": "9RrjvBzNDiAk"
      },
      "source": [
        "### LINCI FELICITA P\n",
        "### CB.SC.I5DAS18022 \n",
        "### RNN ASSIGNMENT : 26-11-2021\n",
        "\n",
        "# --------------------------------------------------\n",
        "### **TEXT GENERATOR USING RNN-LSTM**\n",
        "# -------------------------------------------------- "
      ]
    },
    {
      "cell_type": "markdown",
      "metadata": {
        "id": "b9D6oj6PDoVZ"
      },
      "source": [
        "### **Importing all the necessary libraries**"
      ]
    },
    {
      "cell_type": "code",
      "metadata": {
        "id": "4yhxMqtMqmqC"
      },
      "source": [
        " import numpy as np\n",
        " import tensorflow as tf\n",
        " from tensorflow import keras\n",
        " from tensorflow.keras.layers import Dense, LSTM, Embedding\n",
        " import matplotlib.pyplot as plt "
      ],
      "execution_count": null,
      "outputs": []
    },
    {
      "cell_type": "markdown",
      "metadata": {
        "id": "Cfg2pwSmDvnn"
      },
      "source": [
        "### **Download Text Data**"
      ]
    },
    {
      "cell_type": "code",
      "metadata": {
        "id": "w1Izw1aStNbM"
      },
      "source": [
        " file_URL = \"https://storage.googleapis.com/download.tensorflow.org/data/shakespeare.txt\"\n",
        " file_name= \"shakespeare.txt\"\n",
        " # get the file path\n",
        " path = keras.utils.get_file(file_name, file_URL) "
      ],
      "execution_count": null,
      "outputs": []
    },
    {
      "cell_type": "code",
      "metadata": {
        "colab": {
          "base_uri": "https://localhost:8080/"
        },
        "id": "68iJwYEEtQN6",
        "outputId": "e8fbe1ac-ff84-4e90-8123-2b8ee4e340ad"
      },
      "source": [
        "raw = open(path, 'rb').read()\n",
        "print(raw[250:400]) "
      ],
      "execution_count": null,
      "outputs": [
        {
          "output_type": "stream",
          "name": "stdout",
          "text": [
            "b\"\\nAll:\\nWe know't, we know't.\\n\\nFirst Citizen:\\nLet us kill him, and we'll have corn at our own price.\\nIs't a verdict?\\n\\nAll:\\nNo more talking on't; let it \"\n"
          ]
        }
      ]
    },
    {
      "cell_type": "code",
      "metadata": {
        "colab": {
          "base_uri": "https://localhost:8080/"
        },
        "id": "pOIMg4qatUBl",
        "outputId": "ec8259f4-eba6-4180-b38f-6d1c20044009"
      },
      "source": [
        " text = raw.decode(encoding='utf-8')\n",
        " print(text[250:400]) "
      ],
      "execution_count": null,
      "outputs": [
        {
          "output_type": "stream",
          "name": "stdout",
          "text": [
            "\n",
            "All:\n",
            "We know't, we know't.\n",
            "\n",
            "First Citizen:\n",
            "Let us kill him, and we'll have corn at our own price.\n",
            "Is't a verdict?\n",
            "\n",
            "All:\n",
            "No more talking on't; let it \n"
          ]
        }
      ]
    },
    {
      "cell_type": "code",
      "metadata": {
        "colab": {
          "base_uri": "https://localhost:8080/"
        },
        "id": "LlI4p2GDtZRm",
        "outputId": "48d4f1b2-5801-4f06-f7cb-4b9138931306"
      },
      "source": [
        "len(text)"
      ],
      "execution_count": null,
      "outputs": [
        {
          "output_type": "execute_result",
          "data": {
            "text/plain": [
              "1115394"
            ]
          },
          "metadata": {},
          "execution_count": 18
        }
      ]
    },
    {
      "cell_type": "markdown",
      "metadata": {
        "id": "aYppYBqhEMqD"
      },
      "source": [
        "### **Vectorize Word Characters into Integers**"
      ]
    },
    {
      "cell_type": "code",
      "metadata": {
        "colab": {
          "base_uri": "https://localhost:8080/"
        },
        "id": "_CJrMBGjtepW",
        "outputId": "49961934-2e38-4c26-af7b-5e058e3d9c51"
      },
      "source": [
        " # unique characters\n",
        " vocabulary = np.array(sorted(set(text)))\n",
        " len(vocabulary)"
      ],
      "execution_count": null,
      "outputs": [
        {
          "output_type": "execute_result",
          "data": {
            "text/plain": [
              "65"
            ]
          },
          "metadata": {},
          "execution_count": 19
        }
      ]
    },
    {
      "cell_type": "code",
      "metadata": {
        "id": "8iGkBFJfthhp"
      },
      "source": [
        "# assign an integer to each character\n",
        "tokenizer = {char:i for i,char in enumerate(vocabulary)} "
      ],
      "execution_count": null,
      "outputs": []
    },
    {
      "cell_type": "code",
      "metadata": {
        "colab": {
          "base_uri": "https://localhost:8080/"
        },
        "id": "yAWvnLxjtkO0",
        "outputId": "edb5556c-c65e-4892-c450-bb985eb88100"
      },
      "source": [
        " # check characters and its corresponding integer\n",
        " for i in range(65):\n",
        "     char = vocabulary[i]\n",
        "     token = tokenizer[char]\n",
        "     print('%4s : %4d'%(repr(char),token))"
      ],
      "execution_count": null,
      "outputs": [
        {
          "output_type": "stream",
          "name": "stdout",
          "text": [
            "'\\n' :    0\n",
            " ' ' :    1\n",
            " '!' :    2\n",
            " '$' :    3\n",
            " '&' :    4\n",
            " \"'\" :    5\n",
            " ',' :    6\n",
            " '-' :    7\n",
            " '.' :    8\n",
            " '3' :    9\n",
            " ':' :   10\n",
            " ';' :   11\n",
            " '?' :   12\n",
            " 'A' :   13\n",
            " 'B' :   14\n",
            " 'C' :   15\n",
            " 'D' :   16\n",
            " 'E' :   17\n",
            " 'F' :   18\n",
            " 'G' :   19\n",
            " 'H' :   20\n",
            " 'I' :   21\n",
            " 'J' :   22\n",
            " 'K' :   23\n",
            " 'L' :   24\n",
            " 'M' :   25\n",
            " 'N' :   26\n",
            " 'O' :   27\n",
            " 'P' :   28\n",
            " 'Q' :   29\n",
            " 'R' :   30\n",
            " 'S' :   31\n",
            " 'T' :   32\n",
            " 'U' :   33\n",
            " 'V' :   34\n",
            " 'W' :   35\n",
            " 'X' :   36\n",
            " 'Y' :   37\n",
            " 'Z' :   38\n",
            " 'a' :   39\n",
            " 'b' :   40\n",
            " 'c' :   41\n",
            " 'd' :   42\n",
            " 'e' :   43\n",
            " 'f' :   44\n",
            " 'g' :   45\n",
            " 'h' :   46\n",
            " 'i' :   47\n",
            " 'j' :   48\n",
            " 'k' :   49\n",
            " 'l' :   50\n",
            " 'm' :   51\n",
            " 'n' :   52\n",
            " 'o' :   53\n",
            " 'p' :   54\n",
            " 'q' :   55\n",
            " 'r' :   56\n",
            " 's' :   57\n",
            " 't' :   58\n",
            " 'u' :   59\n",
            " 'v' :   60\n",
            " 'w' :   61\n",
            " 'x' :   62\n",
            " 'y' :   63\n",
            " 'z' :   64\n"
          ]
        }
      ]
    },
    {
      "cell_type": "code",
      "metadata": {
        "colab": {
          "base_uri": "https://localhost:8080/"
        },
        "id": "aLF65yGUtpLj",
        "outputId": "a18ae636-7a18-4264-9872-8cbc89bf3062"
      },
      "source": [
        " vector = np.array([tokenizer[char] for char in text])\n",
        " print('\\nSample Text \\n')\n",
        " print('-'*70)\n",
        " print(text[:100])\n",
        " print('-'*70)\n",
        " print('\\n\\nCorresponding Integer Vector \\n')\n",
        " print('-'*70)\n",
        " print(vector[:100])\n",
        " print('-'*70) "
      ],
      "execution_count": null,
      "outputs": [
        {
          "output_type": "stream",
          "name": "stdout",
          "text": [
            "\n",
            "Sample Text \n",
            "\n",
            "----------------------------------------------------------------------\n",
            "First Citizen:\n",
            "Before we proceed any further, hear me speak.\n",
            "\n",
            "All:\n",
            "Speak, speak.\n",
            "\n",
            "First Citizen:\n",
            "You\n",
            "----------------------------------------------------------------------\n",
            "\n",
            "\n",
            "Corresponding Integer Vector \n",
            "\n",
            "----------------------------------------------------------------------\n",
            "[18 47 56 57 58  1 15 47 58 47 64 43 52 10  0 14 43 44 53 56 43  1 61 43\n",
            "  1 54 56 53 41 43 43 42  1 39 52 63  1 44 59 56 58 46 43 56  6  1 46 43\n",
            " 39 56  1 51 43  1 57 54 43 39 49  8  0  0 13 50 50 10  0 31 54 43 39 49\n",
            "  6  1 57 54 43 39 49  8  0  0 18 47 56 57 58  1 15 47 58 47 64 43 52 10\n",
            "  0 37 53 59]\n",
            "----------------------------------------------------------------------\n"
          ]
        }
      ]
    },
    {
      "cell_type": "code",
      "metadata": {
        "id": "hv_N0sQ_tvIA"
      },
      "source": [
        "# convert into tensors\n",
        "vector = tf.data.Dataset.from_tensor_slices(vector)\n",
        " # make sequences each of length 100 characters\n",
        "sequences = vector.batch(100, drop_remainder=True)"
      ],
      "execution_count": null,
      "outputs": []
    },
    {
      "cell_type": "code",
      "metadata": {
        "id": "UY_8Fg00t6FM"
      },
      "source": [
        "def prepare_dataset(seq):\n",
        "  input_vector = seq[:-1]\n",
        "  target_vector = seq[1:]\n",
        "  return input_vector, target_vector\n",
        "dataset = sequences.map(prepare_dataset)"
      ],
      "execution_count": null,
      "outputs": []
    },
    {
      "cell_type": "code",
      "metadata": {
        "colab": {
          "base_uri": "https://localhost:8080/"
        },
        "id": "za0xLBkQuDPk",
        "outputId": "edda8e8b-6809-4262-e46a-422d146358c0"
      },
      "source": [
        " # check how it looks\n",
        " for inp, tar in dataset.take(1):\n",
        "     print(inp.numpy())\n",
        "     print(tar.numpy())\n",
        "     inp_text = ''.join(vocabulary[inp])\n",
        "     tar_text = ''.join(vocabulary[tar])\n",
        "     print(repr(inp_text))\n",
        "     print(repr(tar_text)) "
      ],
      "execution_count": null,
      "outputs": [
        {
          "output_type": "stream",
          "name": "stdout",
          "text": [
            "[18 47 56 57 58  1 15 47 58 47 64 43 52 10  0 14 43 44 53 56 43  1 61 43\n",
            "  1 54 56 53 41 43 43 42  1 39 52 63  1 44 59 56 58 46 43 56  6  1 46 43\n",
            " 39 56  1 51 43  1 57 54 43 39 49  8  0  0 13 50 50 10  0 31 54 43 39 49\n",
            "  6  1 57 54 43 39 49  8  0  0 18 47 56 57 58  1 15 47 58 47 64 43 52 10\n",
            "  0 37 53]\n",
            "[47 56 57 58  1 15 47 58 47 64 43 52 10  0 14 43 44 53 56 43  1 61 43  1\n",
            " 54 56 53 41 43 43 42  1 39 52 63  1 44 59 56 58 46 43 56  6  1 46 43 39\n",
            " 56  1 51 43  1 57 54 43 39 49  8  0  0 13 50 50 10  0 31 54 43 39 49  6\n",
            "  1 57 54 43 39 49  8  0  0 18 47 56 57 58  1 15 47 58 47 64 43 52 10  0\n",
            " 37 53 59]\n",
            "'First Citizen:\\nBefore we proceed any further, hear me speak.\\n\\nAll:\\nSpeak, speak.\\n\\nFirst Citizen:\\nYo'\n",
            "'irst Citizen:\\nBefore we proceed any further, hear me speak.\\n\\nAll:\\nSpeak, speak.\\n\\nFirst Citizen:\\nYou'\n"
          ]
        }
      ]
    },
    {
      "cell_type": "markdown",
      "metadata": {
        "id": "FfI3IWCCEd0V"
      },
      "source": [
        ""
      ]
    },
    {
      "cell_type": "code",
      "metadata": {
        "colab": {
          "base_uri": "https://localhost:8080/"
        },
        "id": "_QL3ALhZuJWt",
        "outputId": "ec81c6a3-3734-4e7f-b644-8778a1f6153f"
      },
      "source": [
        " AUTOTUNE = tf.data.AUTOTUNE\n",
        " # buffer size 10000\n",
        " # batch size 64\n",
        " data = dataset.batch(64, drop_remainder=True).repeat()\n",
        " data = data.prefetch(AUTOTUNE)\n",
        " # steps per epoch is number of batches available\n",
        " STEPS_PER_EPOCH = len(sequences)//64\n",
        " for inp, tar in data.take(1):\n",
        "     print(inp.numpy().shape)\n",
        "     print(tar.numpy().shape) "
      ],
      "execution_count": null,
      "outputs": [
        {
          "output_type": "stream",
          "name": "stdout",
          "text": [
            "(64, 99)\n",
            "(64, 99)\n"
          ]
        }
      ]
    },
    {
      "cell_type": "markdown",
      "metadata": {
        "id": "IXGMVN1VEvjA"
      },
      "source": [
        "### **RNN Model Building**"
      ]
    },
    {
      "cell_type": "code",
      "metadata": {
        "colab": {
          "base_uri": "https://localhost:8080/"
        },
        "id": "lFTLlV3CuOP1",
        "outputId": "62a93e09-f152-47aa-e01b-cab5d55bcc3c"
      },
      "source": [
        "model = keras.Sequential([\n",
        "     # Embed len(vocabulary) into 64 dimensions\n",
        "     Embedding(len(vocabulary), 64, batch_input_shape=[64,None]),\n",
        "     # LSTM RNN layers\n",
        "     LSTM(512, return_sequences=True, stateful=True),\n",
        "     LSTM(512, return_sequences=True, stateful=True),\n",
        "     # Classification head\n",
        "     Dense(len(vocabulary))\n",
        " ])\n",
        "model.summary()"
      ],
      "execution_count": null,
      "outputs": [
        {
          "output_type": "stream",
          "name": "stdout",
          "text": [
            "Model: \"sequential_1\"\n",
            "_________________________________________________________________\n",
            " Layer (type)                Output Shape              Param #   \n",
            "=================================================================\n",
            " embedding (Embedding)       (64, None, 64)            4160      \n",
            "                                                                 \n",
            " lstm_1 (LSTM)               (64, None, 512)           1181696   \n",
            "                                                                 \n",
            " lstm_2 (LSTM)               (64, None, 512)           2099200   \n",
            "                                                                 \n",
            " dense_1 (Dense)             (64, None, 65)            33345     \n",
            "                                                                 \n",
            "=================================================================\n",
            "Total params: 3,318,401\n",
            "Trainable params: 3,318,401\n",
            "Non-trainable params: 0\n",
            "_________________________________________________________________\n"
          ]
        }
      ]
    },
    {
      "cell_type": "code",
      "metadata": {
        "colab": {
          "base_uri": "https://localhost:8080/",
          "height": 361
        },
        "id": "p9QRCztfuTpd",
        "outputId": "1384b05b-f5e9-41d8-86fa-42fb331780d8"
      },
      "source": [
        "keras.utils.plot_model(model, show_shapes=True, dpi=64)"
      ],
      "execution_count": null,
      "outputs": [
        {
          "output_type": "execute_result",
          "data": {
            "image/png": "[encoded data removed]",
            "text/plain": [
              "<IPython.core.display.Image object>"
            ]
          },
          "metadata": {},
          "execution_count": 33
        }
      ]
    },
    {
      "cell_type": "markdown",
      "metadata": {
        "id": "D0gaPCEYE8fH"
      },
      "source": [
        "### **Train the RNN Model**"
      ]
    },
    {
      "cell_type": "code",
      "metadata": {
        "colab": {
          "base_uri": "https://localhost:8080/"
        },
        "id": "GrbsmXWJuYxH",
        "outputId": "3d158f1e-0217-4388-d73f-87d01e244432"
      },
      "source": [
        " # test whether the untrained model performs good\n",
        " for example_inp, example_tar in data.take(1):\n",
        "     example_pred = model(example_inp)\n",
        "     print(example_tar.numpy().shape)\n",
        "     print(example_pred.shape)"
      ],
      "execution_count": null,
      "outputs": [
        {
          "output_type": "stream",
          "name": "stdout",
          "text": [
            "(64, 99)\n",
            "(64, 99, 65)\n"
          ]
        }
      ]
    },
    {
      "cell_type": "code",
      "metadata": {
        "colab": {
          "base_uri": "https://localhost:8080/"
        },
        "id": "ipKba-1MueP3",
        "outputId": "4e0553e7-8688-47d0-c6fb-2fff7b446bd6"
      },
      "source": [
        "model.compile(optimizer='adam', \n",
        "      loss=keras.losses.SparseCategoricalCrossentropy(from_logits=True))\n",
        "\n",
        "history = model.fit(data, \n",
        "                     epochs=10, \n",
        "                     steps_per_epoch=STEPS_PER_EPOCH) "
      ],
      "execution_count": null,
      "outputs": [
        {
          "output_type": "stream",
          "name": "stdout",
          "text": [
            "Epoch 1/10\n",
            "174/174 [==============================] - 799s 5s/step - loss: 3.1121\n",
            "Epoch 2/10\n",
            "174/174 [==============================] - 790s 5s/step - loss: 2.3010\n",
            "Epoch 3/10\n",
            "174/174 [==============================] - 791s 5s/step - loss: 2.0427\n",
            "Epoch 4/10\n",
            "174/174 [==============================] - 796s 5s/step - loss: 1.8581\n",
            "Epoch 5/10\n",
            "174/174 [==============================] - 793s 5s/step - loss: 1.7191\n",
            "Epoch 6/10\n",
            "174/174 [==============================] - 793s 5s/step - loss: 1.6150\n",
            "Epoch 7/10\n",
            "174/174 [==============================] - 795s 5s/step - loss: 1.5385\n",
            "Epoch 8/10\n",
            "174/174 [==============================] - 802s 5s/step - loss: 1.4805\n",
            "Epoch 9/10\n",
            "174/174 [==============================] - 802s 5s/step - loss: 1.4352\n",
            "Epoch 10/10\n",
            "174/174 [==============================] - 798s 5s/step - loss: 1.3977\n"
          ]
        }
      ]
    },
    {
      "cell_type": "markdown",
      "metadata": {
        "id": "5rc5M_XgFEZE"
      },
      "source": [
        "### **Model Performance Evaluation**"
      ]
    },
    {
      "cell_type": "code",
      "metadata": {
        "colab": {
          "base_uri": "https://localhost:8080/",
          "height": 301
        },
        "id": "wHmqqUenuljx",
        "outputId": "0b7f5a17-dab9-499d-dca9-41157e78464a"
      },
      "source": [
        " plt.plot(history.history['loss'], '+-r')\n",
        " plt.title('Performance Analysis', size=16, color='green')\n",
        " plt.xlabel('Epochs', size=14, color='blue')\n",
        " plt.ylabel('Loss', size=14, color='blue')\n",
        " plt.xticks(range(10))\n",
        " plt.show() "
      ],
      "execution_count": null,
      "outputs": [
        {
          "output_type": "display_data",
          "data": {
            "image/png": "[encoded data removed]",
            "text/plain": [
              "<Figure size 432x288 with 1 Axes>"
            ]
          },
          "metadata": {
            "needs_background": "light"
          }
        }
      ]
    },
    {
      "cell_type": "markdown",
      "metadata": {
        "id": "zLjljqIEFL77"
      },
      "source": [
        "### **Next Character Prediction**"
      ]
    },
    {
      "cell_type": "code",
      "metadata": {
        "id": "IlObdfxKu1ph"
      },
      "source": [
        " # reset previous states of model\n",
        " model.reset_states() "
      ],
      "execution_count": null,
      "outputs": []
    },
    {
      "cell_type": "code",
      "metadata": {
        "colab": {
          "base_uri": "https://localhost:8080/"
        },
        "id": "AWJnLa61u2Tu",
        "outputId": "81f50bd7-d626-46ec-915e-010163d54332"
      },
      "source": [
        "sample = 'ANTHONIO:'\n",
        "# vectorize the string\n",
        "sample_vector = [tokenizer[s] for s in sample]\n",
        "predicted = sample_vector\n",
        "# convert into tensor of required dimensions\n",
        "sample_tensor = tf.expand_dims(sample_vector, 0) \n",
        "# broadcast to first dimension to 64 \n",
        "sample_tensor = tf.repeat(sample_tensor, 64, axis=0)\n",
        "\n",
        "# predict next 1000 characters\n",
        "# temperature is a sensitive variable to adjust prediction\n",
        "temperature = 0.6\n",
        "\n",
        "for i in range(1000):\n",
        "  pred = model(sample_tensor)\n",
        "  # reduce unnecessary dimensions\n",
        "  pred = pred[0].numpy()/temperature\n",
        "  pred = tf.random.categorical(pred, num_samples=1)[-1,0].numpy()\n",
        "  predicted.append(pred)\n",
        "  sample_tensor = predicted[-99:]\n",
        "  sample_tensor = tf.expand_dims([pred],0)\n",
        "  # broadcast to first dimension to 64 \n",
        "  sample_tensor = tf.repeat(sample_tensor, 64, axis=0)\n",
        "\n",
        "# convert the integers back to characters\n",
        "pred_char = [vocabulary[i] for i in predicted]\n",
        "generated = ''.join(pred_char)\n",
        "print(generated)\n"
      ],
      "execution_count": null,
      "outputs": [
        {
          "output_type": "stream",
          "name": "stdout",
          "text": [
            "ANTHONIO:\n",
            "Not far your body of are thus be gone.\n",
            "\n",
            "PETRUCHIO:\n",
            "He hath sat, the wayer is thy hand,\n",
            "The gentleman of the good sir,\n",
            "Should be so right with a counteny virtuous son.\n",
            "\n",
            "TRANIO:\n",
            "The marriage, the place music be sended means\n",
            "And where is love as it some petermines nor to do should be\n",
            "And so being me on the said.\n",
            "\n",
            "DUKE VINCENTIO:\n",
            "My sight to will be more than at she be speak.\n",
            "\n",
            "BAPTISTA:\n",
            "This is the wind of the issue the means\n",
            "As estent moneyed the merry of the stranger of the slander.\n",
            "\n",
            "PETRUCHIO:\n",
            "The sun, sir, it the moun is Bolingbroke,\n",
            "And so his name of mine own son the world.\n",
            "\n",
            "BIONDELLO:\n",
            "\n",
            "DUKE VINCENTIO:\n",
            "My mischer of his moon! thou art not from the will.\n",
            "\n",
            "CETRUCHIO:\n",
            "What is the hand, one word be thou not stand\n",
            "By his contrary, but thou wast content\n",
            "And that we must be white of her dound\n",
            "And as the mear'st with the sea-\n",
            "And not his son of steel.\n",
            "\n",
            "ANTONIO:\n",
            "He shall was so marry for the came his mean\n",
            "Of my blood, here she may thou didst not rest.\n",
            "\n",
            "PETRUCHIO:\n",
            "He cannot come to the world \n"
          ]
        }
      ]
    },
    {
      "cell_type": "code",
      "metadata": {
        "colab": {
          "base_uri": "https://localhost:8080/"
        },
        "id": "OTBXv-xjvGLy",
        "outputId": "5813c046-9631-4845-92be-0d690cd3b7e4"
      },
      "source": [
        "sample = 'ANTHONIO:'\n",
        "# vectorize the string\n",
        "sample_vector = [tokenizer[s] for s in sample]\n",
        "predicted = sample_vector\n",
        "# convert into tensor of required dimensions\n",
        "sample_tensor = tf.expand_dims(sample_vector, 0) \n",
        "# broadcast to first dimension to 64 \n",
        "sample_tensor = tf.repeat(sample_tensor, 64, axis=0)\n",
        "\n",
        "# predict next 1000 characters\n",
        "# vary temperature to change randomness\n",
        "temperature = 0.8\n",
        "\n",
        "for i in range(1000):\n",
        "  pred = model(sample_tensor)\n",
        "  # reduce unnecessary dimensions\n",
        "  pred = pred[0].numpy()/temperature\n",
        "  pred = tf.random.categorical(pred, num_samples=1)[-1,0].numpy()\n",
        "  predicted.append(pred)\n",
        "  sample_tensor = predicted[-99:]\n",
        "  sample_tensor = tf.expand_dims([pred],0)\n",
        "  # broadcast to first dimension to 64 \n",
        "  sample_tensor = tf.repeat(sample_tensor, 64, axis=0)\n",
        "\n",
        "# integer to text decoding\n",
        "pred_char = [vocabulary[i] for i in predicted]\n",
        "generated = ''.join(pred_char)\n",
        "print(generated)"
      ],
      "execution_count": null,
      "outputs": [
        {
          "output_type": "stream",
          "name": "stdout",
          "text": [
            "ANTHONIO:\n",
            "I know, sir.\n",
            "\n",
            "ANTANIO:\n",
            "Why, he issurn's worship, to come the truth,\n",
            "For, I'll seen him and the horse that should\n",
            "And true sood did hath procond my else\n",
            "And kill'd all brave we go to her humd\n",
            "The bitt dishourd he hath presently the orier and the\n",
            "gime and all moster of the belling pover?\n",
            "By the Lord did he will think out in the\n",
            "duke violighness gap-man's too and telling\n",
            "That they comes and man in place to mean!\n",
            "\n",
            "MARCIUS:\n",
            "A pistress I have been and the friendly stungs.\n",
            "\n",
            "Warsthars to our meaning.\n",
            "\n",
            "GREMIO:\n",
            "Girst Clamentair, the give but the strength;\n",
            "But indeed-son like and spirit'st me.\n",
            "\n",
            "ARIEL:\n",
            "I must find no morrow beght of a cred;\n",
            "She shall be more thas well.\n",
            "\n",
            "KATHARINA:\n",
            "It not to be triop; he is not as not hit\n",
            "UHouch news and courtey of his bed and mind\n",
            "To say?\n",
            "\n",
            "GRUMIO:\n",
            "I not, sir.\n",
            "\n",
            "PROSPERO:\n",
            "chy hath all heavens.\n",
            "\n",
            "DUKE VINCENTIO:\n",
            "What, throok my son-swer of the most thing she dread,\n",
            "And charged for the must make abbeard?\n",
            "\n",
            "DUKE VINCENTIO:\n",
            "We have all trud; but I cannot wall,\n",
            "When he mu\n"
          ]
        }
      ]
    },
    {
      "cell_type": "code",
      "metadata": {
        "colab": {
          "base_uri": "https://localhost:8080/"
        },
        "id": "aiHBRQ5FvPLq",
        "outputId": "01f78b00-9bd9-4595-d2d4-323fdd23fc95"
      },
      "source": [
        "sample = 'He'\n",
        "# vectorize the string\n",
        "sample_vector = [tokenizer[s] for s in sample]\n",
        "predicted = sample_vector\n",
        "# convert into tensor of required dimensions\n",
        "sample_tensor = tf.expand_dims(sample_vector, 0) \n",
        "# broadcast to first dimension to 64 \n",
        "sample_tensor = tf.repeat(sample_tensor, 64, axis=0)\n",
        "\n",
        "# predict next 1000 characters\n",
        "# vary temperature to change randomness\n",
        "temperature = 0.5\n",
        "\n",
        "for i in range(100):\n",
        "  pred = model(sample_tensor)\n",
        "  # reduce unnecessary dimensions\n",
        "  pred = pred[0].numpy()/temperature\n",
        "  pred = tf.random.categorical(pred, num_samples=1)[-1,0].numpy()\n",
        "  predicted.append(pred)\n",
        "  sample_tensor = predicted[-99:]\n",
        "  sample_tensor = tf.expand_dims([pred],0)\n",
        "  # broadcast to first dimension to 64 \n",
        "  sample_tensor = tf.repeat(sample_tensor, 64, axis=0)\n",
        "\n",
        "# integer to text decoding\n",
        "pred_char = [vocabulary[i] for i in predicted]\n",
        "generated = ''.join(pred_char)\n",
        "print(generated)"
      ],
      "execution_count": null,
      "outputs": [
        {
          "output_type": "stream",
          "name": "stdout",
          "text": [
            "Hed maid is fair and so all the king's death.\n",
            "\n",
            "DUKE VINCENTIO:\n",
            "What, is the bear of death, thou wilt d\n"
          ]
        }
      ]
    },
    {
      "cell_type": "code",
      "metadata": {
        "colab": {
          "base_uri": "https://localhost:8080/"
        },
        "id": "oU3km9G-NjEZ",
        "outputId": "02f3d0c2-3f12-488a-8672-dd9cb1e76038"
      },
      "source": [
        "sample = 'Not'\n",
        "# vectorize the string\n",
        "sample_vector = [tokenizer[s] for s in sample]\n",
        "predicted = sample_vector\n",
        "# convert into tensor of required dimensions\n",
        "sample_tensor = tf.expand_dims(sample_vector, 0) \n",
        "# broadcast to first dimension to 64 \n",
        "sample_tensor = tf.repeat(sample_tensor, 64, axis=0)\n",
        "\n",
        "# predict next 1000 characters\n",
        "# vary temperature to change randomness\n",
        "temperature = 0.8\n",
        "\n",
        "for i in range(100):\n",
        "  pred = model(sample_tensor)\n",
        "  # reduce unnecessary dimensions\n",
        "  pred = pred[0].numpy()/temperature\n",
        "  pred = tf.random.categorical(pred, num_samples=1)[-1,0].numpy()\n",
        "  predicted.append(pred)\n",
        "  sample_tensor = predicted[-99:]\n",
        "  sample_tensor = tf.expand_dims([pred],0)\n",
        "  # broadcast to first dimension to 64 \n",
        "  sample_tensor = tf.repeat(sample_tensor, 64, axis=0)\n",
        "\n",
        "# integer to text decoding\n",
        "pred_char = [vocabulary[i] for i in predicted]\n",
        "generated = ''.join(pred_char)\n",
        "print(generated)"
      ],
      "execution_count": null,
      "outputs": [
        {
          "output_type": "stream",
          "name": "stdout",
          "text": [
            "Not the good polianing the prines\n",
            "And in the hour out so far with as\n",
            "but old that you best up by this e\n"
          ]
        }
      ]
    },
    {
      "cell_type": "code",
      "metadata": {
        "id": "LLMDI6RvNq_L"
      },
      "source": [
        ""
      ],
      "execution_count": null,
      "outputs": []
    }
  ]
}